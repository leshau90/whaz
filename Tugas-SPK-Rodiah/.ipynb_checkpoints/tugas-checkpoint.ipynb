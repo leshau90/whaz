{
 "cells": [
  {
   "cell_type": "code",
   "execution_count": 1,
   "metadata": {},
   "outputs": [],
   "source": [
    "import pandas as pd\n",
    "import numpy as np\n",
    "# from ydata_profiling import ProfileReport\n"
   ]
  },
  {
   "cell_type": "markdown",
   "metadata": {},
   "source": []
  },
  {
   "cell_type": "code",
   "execution_count": 2,
   "metadata": {},
   "outputs": [],
   "source": [
    "order_items = pd.read_csv('./dataset/olist_order_items_dataset.csv')\n",
    "customers = pd.read_csv('./dataset/olist_customers_dataset.csv')\n",
    "sellers = pd.read_csv('./dataset/olist_sellers_dataset.csv')\n",
    "products = pd.read_csv('./dataset/olist_products_dataset.csv')\n",
    "orders = pd.read_csv('./dataset/olist_orders_dataset.csv')\n",
    "reviews = pd.read_csv('./dataset/olist_order_reviews_dataset.csv')\n",
    "orders[['order_purchase_timestamp',\n",
    "        'order_approved_at',\n",
    "        'order_delivered_carrier_date',\n",
    "        'order_delivered_customer_date',\n",
    "        'order_estimated_delivery_date']] = orders[['order_purchase_timestamp',\n",
    "                                                    'order_approved_at',\n",
    "                                                    'order_delivered_carrier_date',\n",
    "                                                    'order_delivered_customer_date',\n",
    "                                                    'order_estimated_delivery_date']].apply(pd.to_datetime) \n",
    "reviews[['review_creation_date',\n",
    "        'review_answer_timestamp']] = reviews[['review_creation_date',\n",
    "                                                    'review_answer_timestamp']].apply(pd.to_datetime) \n",
    "order_items[['shipping_limit_date']] = order_items[['shipping_limit_date']].apply(pd.to_datetime)\n",
    "# order_items.info(),orders.info()\n",
    "# order_items.head()\n",
    "# customers.head(),order_items.head(),orders.head(),customers[customers['customer_id'] == \"9ef432eb6251297304e76186b10a928d\"], customers[customers['customer_unique_id'] == \"9ef432eb6251297304e76186b10a928d\"]\n",
    "# ProfileReport(order_items,title=\"order of items\").to_widgets()\n",
    "\n",
    "\n",
    "merged = pd.merge(orders,order_items)\n",
    "merged = merged.merge(customers)\n",
    "merged = merged.merge(sellers)\n",
    "merged = merged.merge(products)\n",
    "merged = merged.merge(reviews)\n",
    "\n",
    "# merged.info()\n",
    "# ProfileReport(merged,title=\"order of items\").to_widgets()"
   ]
  },
  {
   "cell_type": "code",
   "execution_count": 3,
   "metadata": {},
   "outputs": [],
   "source": [
    "# from sklearn.preprocessing import LabelEncoder\n",
    "# merged.sort_values(by='customer_id')\n",
    "# count_customer=merged.pivot_table(index=['customer_id'],aggfunc='size')\n",
    "# merged[merged['customer_id'] == 'ffffa3172527f765de70084a7e53aae8']\n",
    "# merged.head()\n",
    "# merged['costumer_city']\n",
    "# merged[['customer_city','customer_zip_code_prefix','customer_state']]"
   ]
  },
  {
   "cell_type": "code",
   "execution_count": 4,
   "metadata": {},
   "outputs": [],
   "source": [
    "import pandas as pd\n",
    "import xgboost as xgb\n",
    "from sklearn.ensemble import RandomForestClassifier\n",
    "from sklearn.svm import SVC\n",
    "from sklearn.model_selection import train_test_split\n",
    "from sklearn.metrics import classification_report\n"
   ]
  },
  {
   "cell_type": "code",
   "execution_count": 5,
   "metadata": {},
   "outputs": [
    {
     "data": {
      "text/plain": [
       "order_id                             0\n",
       "customer_id                          0\n",
       "order_status                         0\n",
       "order_purchase_timestamp             0\n",
       "order_approved_at                   15\n",
       "order_delivered_carrier_date      1184\n",
       "order_delivered_customer_date     2360\n",
       "order_estimated_delivery_date        0\n",
       "order_item_id                        0\n",
       "product_id                           0\n",
       "seller_id                            0\n",
       "shipping_limit_date                  0\n",
       "price                                0\n",
       "freight_value                        0\n",
       "customer_unique_id                   0\n",
       "customer_zip_code_prefix             0\n",
       "customer_city                        0\n",
       "customer_state                       0\n",
       "seller_zip_code_prefix               0\n",
       "seller_city                          0\n",
       "seller_state                         0\n",
       "product_category_name             1598\n",
       "product_name_lenght               1598\n",
       "product_description_lenght        1598\n",
       "product_photos_qty                1598\n",
       "product_weight_g                    18\n",
       "product_length_cm                   18\n",
       "product_height_cm                   18\n",
       "product_width_cm                    18\n",
       "review_id                            0\n",
       "review_score                         0\n",
       "review_comment_title             98938\n",
       "review_comment_message           64730\n",
       "review_creation_date                 0\n",
       "review_answer_timestamp              0\n",
       "dtype: int64"
      ]
     },
     "execution_count": 5,
     "metadata": {},
     "output_type": "execute_result"
    }
   ],
   "source": [
    "merged.isna().sum()"
   ]
  },
  {
   "cell_type": "code",
   "execution_count": 6,
   "metadata": {},
   "outputs": [
    {
     "data": {
      "text/html": [
       "<div>\n",
       "<style scoped>\n",
       "    .dataframe tbody tr th:only-of-type {\n",
       "        vertical-align: middle;\n",
       "    }\n",
       "\n",
       "    .dataframe tbody tr th {\n",
       "        vertical-align: top;\n",
       "    }\n",
       "\n",
       "    .dataframe thead th {\n",
       "        text-align: right;\n",
       "    }\n",
       "</style>\n",
       "<table border=\"1\" class=\"dataframe\">\n",
       "  <thead>\n",
       "    <tr style=\"text-align: right;\">\n",
       "      <th></th>\n",
       "      <th>customer_id</th>\n",
       "      <th>product_photos_qty</th>\n",
       "    </tr>\n",
       "  </thead>\n",
       "  <tbody>\n",
       "  </tbody>\n",
       "</table>\n",
       "</div>"
      ],
      "text/plain": [
       "Empty DataFrame\n",
       "Columns: [customer_id, product_photos_qty]\n",
       "Index: []"
      ]
     },
     "execution_count": 6,
     "metadata": {},
     "output_type": "execute_result"
    }
   ],
   "source": [
    "# merged['product_photos_qty'].fillna(0)\n",
    "merged['product_photos_qty']=merged['product_photos_qty'].fillna(0)\n",
    "merged[merged['product_photos_qty'].isna()][['customer_id','product_photos_qty']]\n"
   ]
  },
  {
   "cell_type": "code",
   "execution_count": 7,
   "metadata": {},
   "outputs": [
    {
     "name": "stdout",
     "output_type": "stream",
     "text": [
      "XGBoost Classification Report:\n",
      "              precision    recall  f1-score   support\n",
      "\n",
      "           0       0.51      0.03      0.05      2848\n",
      "           1       0.31      0.01      0.01       726\n",
      "           2       0.75      0.00      0.01      1886\n",
      "           3       0.42      0.01      0.02      4222\n",
      "           4       0.57      0.99      0.73     12793\n",
      "\n",
      "    accuracy                           0.57     22475\n",
      "   macro avg       0.51      0.21      0.16     22475\n",
      "weighted avg       0.54      0.57      0.42     22475\n",
      "\n",
      "Random Forest Classification Report:\n",
      "              precision    recall  f1-score   support\n",
      "\n",
      "           0       0.36      0.23      0.28      2848\n",
      "           1       0.26      0.13      0.18       726\n",
      "           2       0.23      0.11      0.15      1886\n",
      "           3       0.28      0.17      0.21      4222\n",
      "           4       0.60      0.80      0.69     12793\n",
      "\n",
      "    accuracy                           0.53     22475\n",
      "   macro avg       0.35      0.29      0.30     22475\n",
      "weighted avg       0.47      0.53      0.48     22475\n",
      "\n"
     ]
    }
   ],
   "source": [
    "\n",
    "# Load the data and define features and target variable\n",
    "# merged = pd.read_csv('order_data.csv')\n",
    "X = merged[['price','freight_value']]\n",
    "merged['review_score_transformed'] = merged['review_score']-1\n",
    "y = merged['review_score_transformed']\n",
    "\n",
    "# Split the data into training and testing sets\n",
    "X_train, X_test, y_train, y_test = train_test_split(X, y, test_size=0.2, random_state=42)\n",
    "\n",
    "# Train the XGBoost model\n",
    "xgb_model = xgb.XGBClassifier()\n",
    "xgb_model.fit(X_train, y_train)\n",
    "\n",
    "# Train the Random Forest model\n",
    "rf_model = RandomForestClassifier()\n",
    "rf_model.fit(X_train, y_train)\n",
    "\n",
    "# # Train the SVM model\n",
    "# svm_model = SVC()\n",
    "# svm_model.fit(X_train, y_train)\n",
    "\n",
    "# # Make predictions on the test set\n",
    "xgb_pred = xgb_model.predict(X_test)\n",
    "rf_pred = rf_model.predict(X_test)\n",
    "# svm_pred = svm_model.predict(X_test)\n",
    "\n",
    "# # Classification report for XGBoost model\n",
    "xgb_report = classification_report(y_test, xgb_pred)\n",
    "print(\"XGBoost Classification Report:\")\n",
    "print(xgb_report)\n",
    "\n",
    "# # Classification report for Random Forest model\n",
    "rf_report = classification_report(y_test, rf_pred)\n",
    "print(\"Random Forest Classification Report:\")\n",
    "print(rf_report)\n",
    "\n",
    "# # Classification report for SVM model\n",
    "# svm_report = classification_report(y_test, svm_pred)\n",
    "# print(\"SVM Classification Report:\")\n",
    "# print(svm_report)\n"
   ]
  }
 ],
 "metadata": {
  "kernelspec": {
   "display_name": "Python 3 (ipykernel)",
   "language": "python",
   "name": "python3"
  },
  "language_info": {
   "codemirror_mode": {
    "name": "ipython",
    "version": 3
   },
   "file_extension": ".py",
   "mimetype": "text/x-python",
   "name": "python",
   "nbconvert_exporter": "python",
   "pygments_lexer": "ipython3",
   "version": "3.10.9"
  }
 },
 "nbformat": 4,
 "nbformat_minor": 2
}
