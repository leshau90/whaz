{
 "cells": [
  {
   "cell_type": "code",
   "execution_count": 2,
   "metadata": {},
   "outputs": [
    {
     "name": "stdout",
     "output_type": "stream",
     "text": [
      "Diagnosis: Flu\n",
      "Confidence: 0.8\n"
     ]
    }
   ],
   "source": [
    "class Rule:\n",
    "    def __init__(self, condition, diagnosis, confidence):\n",
    "        self.condition = condition\n",
    "        self.diagnosis = diagnosis\n",
    "        self.confidence = confidence\n",
    "\n",
    "    def evaluate(self, symptoms):\n",
    "        # Check if the symptoms satisfy the condition of the rule\n",
    "        if all(symptom in symptoms for symptom in self.condition):\n",
    "            return self.diagnosis, self.confidence\n",
    "        else:\n",
    "            return None, 0\n",
    "\n",
    "class ExpertSystem:\n",
    "    def __init__(self):\n",
    "        self.rules = []\n",
    "\n",
    "    def add_rule(self, rule):\n",
    "        self.rules.append(rule)\n",
    "\n",
    "    def diagnose(self, symptoms):\n",
    "        diagnoses = {}\n",
    "        total_confidence = 0\n",
    "\n",
    "        # Evaluate each rule and accumulate confidence\n",
    "        for rule in self.rules:\n",
    "            diagnosis, confidence = rule.evaluate(symptoms)\n",
    "            if diagnosis:\n",
    "                diagnoses[diagnosis] = diagnoses.get(diagnosis, 0) + confidence\n",
    "                total_confidence += confidence\n",
    "\n",
    "        # Choose the diagnosis with the highest cumulative confidence\n",
    "        if diagnoses:\n",
    "            final_diagnosis = max(diagnoses, key=diagnoses.get)\n",
    "            return final_diagnosis, total_confidence\n",
    "        else:\n",
    "            return \"Unknown\", 0\n",
    "\n",
    "# Example usage:\n",
    "if __name__ == \"__main__\":\n",
    "    # Create rules with conditions, diagnoses, and confidence values\n",
    "    rule1 = Rule([\"fever\", \"cough\"], \"Flu\", 0.8)\n",
    "    rule2 = Rule([\"rash\", \"fever\"], \"Measles\", 0.9)\n",
    "    rule3 = Rule([\"cough\", \"fatigue\"], \"Common Cold\", 0.7)\n",
    "\n",
    "    # Create an expert system and add rules\n",
    "    expert_system = ExpertSystem()\n",
    "    expert_system.add_rule(rule1)\n",
    "    expert_system.add_rule(rule2)\n",
    "    expert_system.add_rule(rule3)\n",
    "\n",
    "    # Test the expert system with symptoms\n",
    "    patient_symptoms = [\"fever\", \"cough\"]\n",
    "    diagnosis, confidence = expert_system.diagnose(patient_symptoms)\n",
    "\n",
    "    print(f\"Diagnosis: {diagnosis}\")\n",
    "    print(f\"Confidence: {confidence}\")\n"
   ]
  }
 ],
 "metadata": {
  "kernelspec": {
   "display_name": "data-lab",
   "language": "python",
   "name": "python3"
  },
  "language_info": {
   "codemirror_mode": {
    "name": "ipython",
    "version": 3
   },
   "file_extension": ".py",
   "mimetype": "text/x-python",
   "name": "python",
   "nbconvert_exporter": "python",
   "pygments_lexer": "ipython3",
   "version": "3.7.12"
  }
 },
 "nbformat": 4,
 "nbformat_minor": 2
}
