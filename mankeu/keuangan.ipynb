{
 "cells": [
  {
   "cell_type": "code",
   "execution_count": 138,
   "metadata": {},
   "outputs": [],
   "source": [
    "import pandas as pd\n",
    "import numpy as np\n",
    "\n"
   ]
  },
  {
   "cell_type": "code",
   "execution_count": 139,
   "metadata": {},
   "outputs": [],
   "source": [
    "initial_investment = 88_000_000_000\n",
    "proyeksi = 100\n",
    "a = 91122010 * np.full(proyeksi,1.1).cumprod()\n",
    "b = 9112201 * np.full(proyeksi,1.09).cumprod()\n",
    "c = np.array((a,b),dtype='int')\n",
    "# a\n",
    "investment  = pd.DataFrame(c.transpose(),columns=['penjualan','hpp'])\n",
    "investment.index+=1\n",
    "# investment"
   ]
  },
  {
   "cell_type": "code",
   "execution_count": null,
   "metadata": {},
   "outputs": [],
   "source": []
  },
  {
   "cell_type": "code",
   "execution_count": 140,
   "metadata": {},
   "outputs": [
    {
     "data": {
      "text/html": [
       "<div>\n",
       "<style scoped>\n",
       "    .dataframe tbody tr th:only-of-type {\n",
       "        vertical-align: middle;\n",
       "    }\n",
       "\n",
       "    .dataframe tbody tr th {\n",
       "        vertical-align: top;\n",
       "    }\n",
       "\n",
       "    .dataframe thead th {\n",
       "        text-align: right;\n",
       "    }\n",
       "</style>\n",
       "<table border=\"1\" class=\"dataframe\">\n",
       "  <thead>\n",
       "    <tr style=\"text-align: right;\">\n",
       "      <th></th>\n",
       "      <th>penjualan</th>\n",
       "      <th>hpp</th>\n",
       "      <th>laba/rugi</th>\n",
       "      <th>pajak</th>\n",
       "      <th>cashflow</th>\n",
       "    </tr>\n",
       "  </thead>\n",
       "  <tbody>\n",
       "    <tr>\n",
       "      <th>1</th>\n",
       "      <td>100234211</td>\n",
       "      <td>9932299</td>\n",
       "      <td>90301912</td>\n",
       "      <td>2.709057e+07</td>\n",
       "      <td>6.321134e+07</td>\n",
       "    </tr>\n",
       "    <tr>\n",
       "      <th>2</th>\n",
       "      <td>110257632</td>\n",
       "      <td>10826206</td>\n",
       "      <td>99431426</td>\n",
       "      <td>2.982943e+07</td>\n",
       "      <td>6.960200e+07</td>\n",
       "    </tr>\n",
       "    <tr>\n",
       "      <th>3</th>\n",
       "      <td>121283395</td>\n",
       "      <td>11800564</td>\n",
       "      <td>109482831</td>\n",
       "      <td>3.284485e+07</td>\n",
       "      <td>7.663798e+07</td>\n",
       "    </tr>\n",
       "    <tr>\n",
       "      <th>4</th>\n",
       "      <td>133411734</td>\n",
       "      <td>12862615</td>\n",
       "      <td>120549119</td>\n",
       "      <td>3.616474e+07</td>\n",
       "      <td>8.438438e+07</td>\n",
       "    </tr>\n",
       "    <tr>\n",
       "      <th>5</th>\n",
       "      <td>146752908</td>\n",
       "      <td>14020250</td>\n",
       "      <td>132732658</td>\n",
       "      <td>3.981980e+07</td>\n",
       "      <td>9.291286e+07</td>\n",
       "    </tr>\n",
       "    <tr>\n",
       "      <th>...</th>\n",
       "      <td>...</td>\n",
       "      <td>...</td>\n",
       "      <td>...</td>\n",
       "      <td>...</td>\n",
       "      <td>...</td>\n",
       "    </tr>\n",
       "    <tr>\n",
       "      <th>96</th>\n",
       "      <td>857671672314</td>\n",
       "      <td>35691688440</td>\n",
       "      <td>821979983874</td>\n",
       "      <td>2.465940e+11</td>\n",
       "      <td>5.753860e+11</td>\n",
       "    </tr>\n",
       "    <tr>\n",
       "      <th>97</th>\n",
       "      <td>943438839545</td>\n",
       "      <td>38903940400</td>\n",
       "      <td>904534899145</td>\n",
       "      <td>2.713605e+11</td>\n",
       "      <td>6.331744e+11</td>\n",
       "    </tr>\n",
       "    <tr>\n",
       "      <th>98</th>\n",
       "      <td>1037782723500</td>\n",
       "      <td>42405295036</td>\n",
       "      <td>995377428464</td>\n",
       "      <td>2.986132e+11</td>\n",
       "      <td>6.967642e+11</td>\n",
       "    </tr>\n",
       "    <tr>\n",
       "      <th>99</th>\n",
       "      <td>1141560995850</td>\n",
       "      <td>46221771589</td>\n",
       "      <td>1095339224261</td>\n",
       "      <td>3.286018e+11</td>\n",
       "      <td>7.667375e+11</td>\n",
       "    </tr>\n",
       "    <tr>\n",
       "      <th>100</th>\n",
       "      <td>1255717095435</td>\n",
       "      <td>50381731032</td>\n",
       "      <td>1205335364403</td>\n",
       "      <td>3.616006e+11</td>\n",
       "      <td>8.437348e+11</td>\n",
       "    </tr>\n",
       "  </tbody>\n",
       "</table>\n",
       "<p>100 rows × 5 columns</p>\n",
       "</div>"
      ],
      "text/plain": [
       "         penjualan          hpp      laba/rugi         pajak      cashflow\n",
       "1        100234211      9932299       90301912  2.709057e+07  6.321134e+07\n",
       "2        110257632     10826206       99431426  2.982943e+07  6.960200e+07\n",
       "3        121283395     11800564      109482831  3.284485e+07  7.663798e+07\n",
       "4        133411734     12862615      120549119  3.616474e+07  8.438438e+07\n",
       "5        146752908     14020250      132732658  3.981980e+07  9.291286e+07\n",
       "..             ...          ...            ...           ...           ...\n",
       "96    857671672314  35691688440   821979983874  2.465940e+11  5.753860e+11\n",
       "97    943438839545  38903940400   904534899145  2.713605e+11  6.331744e+11\n",
       "98   1037782723500  42405295036   995377428464  2.986132e+11  6.967642e+11\n",
       "99   1141560995850  46221771589  1095339224261  3.286018e+11  7.667375e+11\n",
       "100  1255717095435  50381731032  1205335364403  3.616006e+11  8.437348e+11\n",
       "\n",
       "[100 rows x 5 columns]"
      ]
     },
     "execution_count": 140,
     "metadata": {},
     "output_type": "execute_result"
    }
   ],
   "source": [
    "investment['laba/rugi'] = investment['penjualan'] - investment['hpp']\n",
    "investment['pajak'] = investment['laba/rugi'] *(3/10)\n",
    "investment['cashflow'] = investment['laba/rugi'] - investment['pajak']\n",
    "# investment.columns=['penjualan','hp   p','laba/rugi','pajak','cashflow']\n",
    "investment"
   ]
  },
  {
   "cell_type": "code",
   "execution_count": 141,
   "metadata": {},
   "outputs": [
    {
     "data": {
      "text/plain": [
       "'en_US'"
      ]
     },
     "execution_count": 141,
     "metadata": {},
     "output_type": "execute_result"
    }
   ],
   "source": [
    "import locale\n",
    "\n",
    "# Set the locale for your desired formatting (e.g., en_US for US English)\n",
    "locale.setlocale(locale.LC_ALL, 'en_US')\n",
    "\n",
    "# number = 1234567890\n",
    "# formatted_number = locale.format_string(\"%d\", number, grouping=True)\n",
    "\n",
    "# print(formatted_number)"
   ]
  },
  {
   "cell_type": "code",
   "execution_count": 142,
   "metadata": {},
   "outputs": [
    {
     "data": {
      "text/plain": [
       "'9,241,272,126,842'"
      ]
     },
     "execution_count": 142,
     "metadata": {},
     "output_type": "execute_result"
    }
   ],
   "source": [
    "locale.format_string(\"%d\", investment['cashflow'].sum(), grouping=True)\n"
   ]
  },
  {
   "cell_type": "code",
   "execution_count": 143,
   "metadata": {},
   "outputs": [
    {
     "data": {
      "text/plain": [
       "'-883,659,675,895'"
      ]
     },
     "execution_count": 143,
     "metadata": {},
     "output_type": "execute_result"
    }
   ],
   "source": [
    "import numpy_financial as npf\n",
    "npv = npf.npv(.11,[-initial_investment]+investment['cashflow'])\n",
    "\n",
    "locale.format_string(\"%d\", npv, grouping=True)"
   ]
  },
  {
   "cell_type": "code",
   "execution_count": 144,
   "metadata": {},
   "outputs": [
    {
     "data": {
      "text/plain": [
       "0.001223914917511948"
      ]
     },
     "execution_count": 144,
     "metadata": {},
     "output_type": "execute_result"
    }
   ],
   "source": [
    "irr = npf.irr([-initial_investment]+investment['cashflow'])\n",
    "irr"
   ]
  },
  {
   "cell_type": "code",
   "execution_count": 145,
   "metadata": {},
   "outputs": [
    {
     "data": {
      "text/plain": [
       "-10.041587226089046"
      ]
     },
     "execution_count": 145,
     "metadata": {},
     "output_type": "execute_result"
    }
   ],
   "source": [
    "npv/initial_investment"
   ]
  },
  {
   "cell_type": "code",
   "execution_count": 146,
   "metadata": {},
   "outputs": [],
   "source": [
    "education_expenses = [4e6] * 6 + [8e6] * 3 + [20e6] * 4\n",
    "wedding_expenses = 100e6  # Update this value with your desired wedding expenses\n",
    "\n",
    "interest_rate = 0.045\n",
    "\n",
    "# education_expenses"
   ]
  },
  {
   "cell_type": "code",
   "execution_count": 147,
   "metadata": {},
   "outputs": [],
   "source": [
    "\n",
    "education_months = 48\n",
    "education_target = npf.fv(interest_rate / 12, education_months, 0, -sum(education_expenses))\n",
    "education_savings = npf.pmt(interest_rate / 12, education_months, 0, education_target)\n",
    "# education_expenses,education_target,education_savings"
   ]
  },
  {
   "cell_type": "code",
   "execution_count": 168,
   "metadata": {},
   "outputs": [
    {
     "name": "stdout",
     "output_type": "stream",
     "text": [
      "save for wedding 1,036,384\n",
      "save for wedding 156,699,277\n"
     ]
    }
   ],
   "source": [
    "wedding_months = 120# Assuming 1 year until the wedding\n",
    "wedding_target = npf.fv(interest_rate / 12, wedding_months, 0, -wedding_expenses)\n",
    "wedding_savings = npf.pmt(interest_rate / 12, wedding_months, 0, wedding_target)\n",
    "\n",
    "print('save for wedding',locale.format_string(\"%d\", -wedding_savings, grouping=True))\n",
    "print('save for wedding',locale.format_string(\"%d\", wedding_target, grouping=True))\n",
    "# print('save for education',locale.format_string(\"%d\", -education_savings, grouping=True))"
   ]
  }
 ],
 "metadata": {
  "kernelspec": {
   "display_name": "data-lab",
   "language": "python",
   "name": "python3"
  },
  "language_info": {
   "codemirror_mode": {
    "name": "ipython",
    "version": 3
   },
   "file_extension": ".py",
   "mimetype": "text/x-python",
   "name": "python",
   "nbconvert_exporter": "python",
   "pygments_lexer": "ipython3",
   "version": "3.7.15"
  },
  "orig_nbformat": 4
 },
 "nbformat": 4,
 "nbformat_minor": 2
}
