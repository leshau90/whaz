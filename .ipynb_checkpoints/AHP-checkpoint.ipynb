{
 "cells": [
  {
   "cell_type": "code",
   "execution_count": 142,
   "metadata": {},
   "outputs": [],
   "source": [
    "import numpy as np\n",
    "import pandas as pd"
   ]
  },
  {
   "cell_type": "code",
   "execution_count": 143,
   "metadata": {},
   "outputs": [
    {
     "name": "stdout",
     "output_type": "stream",
     "text": [
      "PERBANDINGAN KRITERIA\n"
     ]
    },
    {
     "data": {
      "text/html": [
       "<div>\n",
       "<style scoped>\n",
       "    .dataframe tbody tr th:only-of-type {\n",
       "        vertical-align: middle;\n",
       "    }\n",
       "\n",
       "    .dataframe tbody tr th {\n",
       "        vertical-align: top;\n",
       "    }\n",
       "\n",
       "    .dataframe thead th {\n",
       "        text-align: right;\n",
       "    }\n",
       "</style>\n",
       "<table border=\"1\" class=\"dataframe\">\n",
       "  <thead>\n",
       "    <tr style=\"text-align: right;\">\n",
       "      <th></th>\n",
       "      <th>TJawab</th>\n",
       "      <th>Jujur</th>\n",
       "      <th>Disiplin</th>\n",
       "    </tr>\n",
       "  </thead>\n",
       "  <tbody>\n",
       "    <tr>\n",
       "      <th>TJawab</th>\n",
       "      <td>1.000000</td>\n",
       "      <td>3.000000</td>\n",
       "      <td>8.0</td>\n",
       "    </tr>\n",
       "    <tr>\n",
       "      <th>Jujur</th>\n",
       "      <td>0.333333</td>\n",
       "      <td>1.000000</td>\n",
       "      <td>3.0</td>\n",
       "    </tr>\n",
       "    <tr>\n",
       "      <th>Disiplin</th>\n",
       "      <td>0.125000</td>\n",
       "      <td>0.333333</td>\n",
       "      <td>1.0</td>\n",
       "    </tr>\n",
       "  </tbody>\n",
       "</table>\n",
       "</div>"
      ],
      "text/plain": [
       "            TJawab     Jujur  Disiplin\n",
       "TJawab    1.000000  3.000000       8.0\n",
       "Jujur     0.333333  1.000000       3.0\n",
       "Disiplin  0.125000  0.333333       1.0"
      ]
     },
     "execution_count": 143,
     "metadata": {},
     "output_type": "execute_result"
    }
   ],
   "source": [
    "\n",
    "\n",
    "criteria = ['TJawab','Jujur','Disiplin']\n",
    "print('PERBANDINGAN KRITERIA')\n",
    "\n",
    "relatif_kriteria= np.array([\n",
    "            [1,     3,      8],\n",
    "            [1/3,   1,      3],\n",
    "            [1/8,   1/3,    1]],dtype=np.float64)\n",
    "\n",
    "pd.DataFrame(relatif_kriteria,columns=criteria,index=criteria)\n"
   ]
  },
  {
   "cell_type": "code",
   "execution_count": 144,
   "metadata": {},
   "outputs": [
    {
     "name": "stdout",
     "output_type": "stream",
     "text": [
      "MEMBAGI dengan JUMLAH per KOLOM\n"
     ]
    },
    {
     "data": {
      "text/html": [
       "<div>\n",
       "<style scoped>\n",
       "    .dataframe tbody tr th:only-of-type {\n",
       "        vertical-align: middle;\n",
       "    }\n",
       "\n",
       "    .dataframe tbody tr th {\n",
       "        vertical-align: top;\n",
       "    }\n",
       "\n",
       "    .dataframe thead th {\n",
       "        text-align: right;\n",
       "    }\n",
       "</style>\n",
       "<table border=\"1\" class=\"dataframe\">\n",
       "  <thead>\n",
       "    <tr style=\"text-align: right;\">\n",
       "      <th></th>\n",
       "      <th>TJawab</th>\n",
       "      <th>Jujur</th>\n",
       "      <th>Disiplin</th>\n",
       "    </tr>\n",
       "  </thead>\n",
       "  <tbody>\n",
       "    <tr>\n",
       "      <th>TJawab</th>\n",
       "      <td>0.685714</td>\n",
       "      <td>0.692308</td>\n",
       "      <td>0.666667</td>\n",
       "    </tr>\n",
       "    <tr>\n",
       "      <th>Jujur</th>\n",
       "      <td>0.228571</td>\n",
       "      <td>0.230769</td>\n",
       "      <td>0.250000</td>\n",
       "    </tr>\n",
       "    <tr>\n",
       "      <th>Disiplin</th>\n",
       "      <td>0.085714</td>\n",
       "      <td>0.076923</td>\n",
       "      <td>0.083333</td>\n",
       "    </tr>\n",
       "  </tbody>\n",
       "</table>\n",
       "</div>"
      ],
      "text/plain": [
       "            TJawab     Jujur  Disiplin\n",
       "TJawab    0.685714  0.692308  0.666667\n",
       "Jujur     0.228571  0.230769  0.250000\n",
       "Disiplin  0.085714  0.076923  0.083333"
      ]
     },
     "execution_count": 144,
     "metadata": {},
     "output_type": "execute_result"
    }
   ],
   "source": [
    "# a,b=np.linalg.eig(relatif_kriteria)\n",
    "# pd.DataFrame()\n",
    "print('MEMBAGI dengan JUMLAH per KOLOM')\n",
    "\n",
    "mx = relatif_kriteria/np.sum(relatif_kriteria,axis=0)\n",
    "\n",
    "\n",
    "pd.DataFrame(mx,index=criteria,columns=criteria)"
   ]
  },
  {
   "cell_type": "code",
   "execution_count": 145,
   "metadata": {},
   "outputs": [
    {
     "name": "stdout",
     "output_type": "stream",
     "text": [
      "Vektor RATA-RATA\n"
     ]
    },
    {
     "data": {
      "text/html": [
       "<div>\n",
       "<style scoped>\n",
       "    .dataframe tbody tr th:only-of-type {\n",
       "        vertical-align: middle;\n",
       "    }\n",
       "\n",
       "    .dataframe tbody tr th {\n",
       "        vertical-align: top;\n",
       "    }\n",
       "\n",
       "    .dataframe thead th {\n",
       "        text-align: right;\n",
       "    }\n",
       "</style>\n",
       "<table border=\"1\" class=\"dataframe\">\n",
       "  <thead>\n",
       "    <tr style=\"text-align: right;\">\n",
       "      <th></th>\n",
       "      <th>0</th>\n",
       "    </tr>\n",
       "  </thead>\n",
       "  <tbody>\n",
       "    <tr>\n",
       "      <th>TJawab</th>\n",
       "      <td>0.681563</td>\n",
       "    </tr>\n",
       "    <tr>\n",
       "      <th>Jujur</th>\n",
       "      <td>0.236447</td>\n",
       "    </tr>\n",
       "    <tr>\n",
       "      <th>Disiplin</th>\n",
       "      <td>0.081990</td>\n",
       "    </tr>\n",
       "  </tbody>\n",
       "</table>\n",
       "</div>"
      ],
      "text/plain": [
       "                 0\n",
       "TJawab    0.681563\n",
       "Jujur     0.236447\n",
       "Disiplin  0.081990"
      ]
     },
     "execution_count": 145,
     "metadata": {},
     "output_type": "execute_result"
    }
   ],
   "source": [
    "print('Vektor RATA-RATA')\n",
    "mavg = np.average(mx,axis=1)\n",
    "pd.DataFrame(mavg,index=criteria)"
   ]
  },
  {
   "cell_type": "code",
   "execution_count": 146,
   "metadata": {},
   "outputs": [
    {
     "name": "stdout",
     "output_type": "stream",
     "text": [
      "hasil kali matriks relatif dengan vektor rata-rata\n"
     ]
    },
    {
     "data": {
      "text/html": [
       "<div>\n",
       "<style scoped>\n",
       "    .dataframe tbody tr th:only-of-type {\n",
       "        vertical-align: middle;\n",
       "    }\n",
       "\n",
       "    .dataframe tbody tr th {\n",
       "        vertical-align: top;\n",
       "    }\n",
       "\n",
       "    .dataframe thead th {\n",
       "        text-align: right;\n",
       "    }\n",
       "</style>\n",
       "<table border=\"1\" class=\"dataframe\">\n",
       "  <thead>\n",
       "    <tr style=\"text-align: right;\">\n",
       "      <th></th>\n",
       "      <th>0</th>\n",
       "    </tr>\n",
       "  </thead>\n",
       "  <tbody>\n",
       "    <tr>\n",
       "      <th>0</th>\n",
       "      <td>2.046825</td>\n",
       "    </tr>\n",
       "    <tr>\n",
       "      <th>1</th>\n",
       "      <td>0.709605</td>\n",
       "    </tr>\n",
       "    <tr>\n",
       "      <th>2</th>\n",
       "      <td>0.246001</td>\n",
       "    </tr>\n",
       "  </tbody>\n",
       "</table>\n",
       "</div>"
      ],
      "text/plain": [
       "          0\n",
       "0  2.046825\n",
       "1  0.709605\n",
       "2  0.246001"
      ]
     },
     "execution_count": 146,
     "metadata": {},
     "output_type": "execute_result"
    }
   ],
   "source": [
    "print('hasil kali matriks relatif dengan vektor rata-rata')\n",
    "vkv = relatif_kriteria @ mavg \n",
    "\n",
    "pd.DataFrame(vkv)"
   ]
  },
  {
   "cell_type": "markdown",
   "metadata": {},
   "source": [
    "Diketahui untuk $n = 3$ (jumlah kriteria)  nilai $R.I.  = 0.52$"
   ]
  },
  {
   "cell_type": "code",
   "execution_count": 147,
   "metadata": {},
   "outputs": [
    {
     "name": "stdout",
     "output_type": "stream",
     "text": [
      "UJI KONSISTENSI\n",
      "NILAI CI\n"
     ]
    },
    {
     "data": {
      "text/plain": [
       "0.0007710391494797353"
      ]
     },
     "execution_count": 147,
     "metadata": {},
     "output_type": "execute_result"
    }
   ],
   "source": [
    "print(\"UJI KONSISTENSI\")\n",
    "RI = .52\n",
    "t = (1/3)*np.sum(vkv/mavg)\n",
    "\n",
    "CI  = (t - 3) /2\n",
    "print('NILAI CI')\n",
    "CI \n"
   ]
  },
  {
   "cell_type": "markdown",
   "metadata": {},
   "source": [
    "maka $\\frac{CI}{RI_3} = .... \\leq 0.1$"
   ]
  },
  {
   "cell_type": "code",
   "execution_count": 148,
   "metadata": {},
   "outputs": [
    {
     "name": "stdout",
     "output_type": "stream",
     "text": [
      "CI/RI konsisten\n"
     ]
    },
    {
     "data": {
      "text/plain": [
       "0.001482767595153337"
      ]
     },
     "execution_count": 148,
     "metadata": {},
     "output_type": "execute_result"
    }
   ],
   "source": [
    "print('CI/RI konsisten')\n",
    "CI/RI"
   ]
  },
  {
   "cell_type": "code",
   "execution_count": 149,
   "metadata": {},
   "outputs": [
    {
     "name": "stdout",
     "output_type": "stream",
     "text": [
      "Perbandingan Relatif Antar CAKADES\n",
      "tanggung Jawab\n"
     ]
    },
    {
     "data": {
      "text/html": [
       "<div>\n",
       "<style scoped>\n",
       "    .dataframe tbody tr th:only-of-type {\n",
       "        vertical-align: middle;\n",
       "    }\n",
       "\n",
       "    .dataframe tbody tr th {\n",
       "        vertical-align: top;\n",
       "    }\n",
       "\n",
       "    .dataframe thead th {\n",
       "        text-align: right;\n",
       "    }\n",
       "</style>\n",
       "<table border=\"1\" class=\"dataframe\">\n",
       "  <thead>\n",
       "    <tr style=\"text-align: right;\">\n",
       "      <th></th>\n",
       "      <th>arief</th>\n",
       "      <th>junaedi</th>\n",
       "      <th>yadi</th>\n",
       "    </tr>\n",
       "  </thead>\n",
       "  <tbody>\n",
       "    <tr>\n",
       "      <th>arief</th>\n",
       "      <td>1.000000</td>\n",
       "      <td>0.5</td>\n",
       "      <td>3.0</td>\n",
       "    </tr>\n",
       "    <tr>\n",
       "      <th>junaedi</th>\n",
       "      <td>2.000000</td>\n",
       "      <td>1.0</td>\n",
       "      <td>5.0</td>\n",
       "    </tr>\n",
       "    <tr>\n",
       "      <th>yadi</th>\n",
       "      <td>0.333333</td>\n",
       "      <td>0.2</td>\n",
       "      <td>1.0</td>\n",
       "    </tr>\n",
       "  </tbody>\n",
       "</table>\n",
       "</div>"
      ],
      "text/plain": [
       "            arief  junaedi  yadi\n",
       "arief    1.000000      0.5   3.0\n",
       "junaedi  2.000000      1.0   5.0\n",
       "yadi     0.333333      0.2   1.0"
      ]
     },
     "execution_count": 149,
     "metadata": {},
     "output_type": "execute_result"
    }
   ],
   "source": [
    "print('Perbandingan Relatif Antar CAKADES')\n",
    "print('tanggung Jawab')\n",
    "CAKADES = ['arief','junaedi','yadi']\n",
    "TJ = np.array([\n",
    "    [1,       1/2,      3],\n",
    "    [2,       1,        5],\n",
    "    [1/3,     1/5,      1]],dtype=np.float64)\n",
    "\n",
    "pd.DataFrame(TJ,columns=CAKADES,index=CAKADES)"
   ]
  },
  {
   "cell_type": "code",
   "execution_count": 150,
   "metadata": {},
   "outputs": [
    {
     "name": "stdout",
     "output_type": "stream",
     "text": [
      "Jujur\n"
     ]
    },
    {
     "data": {
      "text/html": [
       "<div>\n",
       "<style scoped>\n",
       "    .dataframe tbody tr th:only-of-type {\n",
       "        vertical-align: middle;\n",
       "    }\n",
       "\n",
       "    .dataframe tbody tr th {\n",
       "        vertical-align: top;\n",
       "    }\n",
       "\n",
       "    .dataframe thead th {\n",
       "        text-align: right;\n",
       "    }\n",
       "</style>\n",
       "<table border=\"1\" class=\"dataframe\">\n",
       "  <thead>\n",
       "    <tr style=\"text-align: right;\">\n",
       "      <th></th>\n",
       "      <th>arief</th>\n",
       "      <th>junaedi</th>\n",
       "      <th>yadi</th>\n",
       "    </tr>\n",
       "  </thead>\n",
       "  <tbody>\n",
       "    <tr>\n",
       "      <th>arief</th>\n",
       "      <td>1.0</td>\n",
       "      <td>0.25</td>\n",
       "      <td>0.25</td>\n",
       "    </tr>\n",
       "    <tr>\n",
       "      <th>junaedi</th>\n",
       "      <td>4.0</td>\n",
       "      <td>1.00</td>\n",
       "      <td>0.50</td>\n",
       "    </tr>\n",
       "    <tr>\n",
       "      <th>yadi</th>\n",
       "      <td>4.0</td>\n",
       "      <td>2.00</td>\n",
       "      <td>1.00</td>\n",
       "    </tr>\n",
       "  </tbody>\n",
       "</table>\n",
       "</div>"
      ],
      "text/plain": [
       "         arief  junaedi  yadi\n",
       "arief      1.0     0.25  0.25\n",
       "junaedi    4.0     1.00  0.50\n",
       "yadi       4.0     2.00  1.00"
      ]
     },
     "execution_count": 150,
     "metadata": {},
     "output_type": "execute_result"
    }
   ],
   "source": [
    "print('Jujur')\n",
    "\n",
    "Jujur = np.array([\n",
    "    [1,       1/4,      1/4],\n",
    "    [4,       1,        1/2],\n",
    "    [4,       2,        1]],dtype=np.float64)\n",
    "\n",
    "pd.DataFrame(Jujur,columns=CAKADES,index=CAKADES)"
   ]
  },
  {
   "cell_type": "code",
   "execution_count": 151,
   "metadata": {},
   "outputs": [
    {
     "name": "stdout",
     "output_type": "stream",
     "text": [
      "Disiplin\n"
     ]
    },
    {
     "data": {
      "text/html": [
       "<div>\n",
       "<style scoped>\n",
       "    .dataframe tbody tr th:only-of-type {\n",
       "        vertical-align: middle;\n",
       "    }\n",
       "\n",
       "    .dataframe tbody tr th {\n",
       "        vertical-align: top;\n",
       "    }\n",
       "\n",
       "    .dataframe thead th {\n",
       "        text-align: right;\n",
       "    }\n",
       "</style>\n",
       "<table border=\"1\" class=\"dataframe\">\n",
       "  <thead>\n",
       "    <tr style=\"text-align: right;\">\n",
       "      <th></th>\n",
       "      <th>arief</th>\n",
       "      <th>junaedi</th>\n",
       "      <th>yadi</th>\n",
       "    </tr>\n",
       "  </thead>\n",
       "  <tbody>\n",
       "    <tr>\n",
       "      <th>arief</th>\n",
       "      <td>1.0</td>\n",
       "      <td>0.25</td>\n",
       "      <td>0.333333</td>\n",
       "    </tr>\n",
       "    <tr>\n",
       "      <th>junaedi</th>\n",
       "      <td>4.0</td>\n",
       "      <td>1.00</td>\n",
       "      <td>0.500000</td>\n",
       "    </tr>\n",
       "    <tr>\n",
       "      <th>yadi</th>\n",
       "      <td>3.0</td>\n",
       "      <td>2.00</td>\n",
       "      <td>1.000000</td>\n",
       "    </tr>\n",
       "  </tbody>\n",
       "</table>\n",
       "</div>"
      ],
      "text/plain": [
       "         arief  junaedi      yadi\n",
       "arief      1.0     0.25  0.333333\n",
       "junaedi    4.0     1.00  0.500000\n",
       "yadi       3.0     2.00  1.000000"
      ]
     },
     "execution_count": 151,
     "metadata": {},
     "output_type": "execute_result"
    }
   ],
   "source": [
    "print('Disiplin')\n",
    "\n",
    "Dis = np.array([\n",
    "    [1,       1/4,      1/3],\n",
    "    [4,       1,        1/2],\n",
    "    [3,       2,        1]],dtype=np.float64)\n",
    "\n",
    "pd.DataFrame(Dis,columns=CAKADES,index=CAKADES)"
   ]
  },
  {
   "cell_type": "code",
   "execution_count": 152,
   "metadata": {},
   "outputs": [
    {
     "name": "stdout",
     "output_type": "stream",
     "text": [
      "NORMALISASI  tanggung jawab\n"
     ]
    },
    {
     "data": {
      "text/html": [
       "<div>\n",
       "<style scoped>\n",
       "    .dataframe tbody tr th:only-of-type {\n",
       "        vertical-align: middle;\n",
       "    }\n",
       "\n",
       "    .dataframe tbody tr th {\n",
       "        vertical-align: top;\n",
       "    }\n",
       "\n",
       "    .dataframe thead th {\n",
       "        text-align: right;\n",
       "    }\n",
       "</style>\n",
       "<table border=\"1\" class=\"dataframe\">\n",
       "  <thead>\n",
       "    <tr style=\"text-align: right;\">\n",
       "      <th></th>\n",
       "      <th>0</th>\n",
       "    </tr>\n",
       "  </thead>\n",
       "  <tbody>\n",
       "    <tr>\n",
       "      <th>arief</th>\n",
       "      <td>0.309150</td>\n",
       "    </tr>\n",
       "    <tr>\n",
       "      <th>junaedi</th>\n",
       "      <td>0.581264</td>\n",
       "    </tr>\n",
       "    <tr>\n",
       "      <th>yadi</th>\n",
       "      <td>0.109586</td>\n",
       "    </tr>\n",
       "  </tbody>\n",
       "</table>\n",
       "</div>"
      ],
      "text/plain": [
       "                0\n",
       "arief    0.309150\n",
       "junaedi  0.581264\n",
       "yadi     0.109586"
      ]
     },
     "execution_count": 152,
     "metadata": {},
     "output_type": "execute_result"
    }
   ],
   "source": [
    "print('NORMALISASI  tanggung jawab')\n",
    "nTJ = np.average(TJ/np.sum(TJ,axis=0),axis=1)\n",
    "\n",
    "\n",
    "pd.DataFrame(nTJ,index=CAKADES)"
   ]
  },
  {
   "cell_type": "code",
   "execution_count": 153,
   "metadata": {},
   "outputs": [
    {
     "name": "stdout",
     "output_type": "stream",
     "text": [
      "NORMALISASI  jujur\n"
     ]
    },
    {
     "data": {
      "text/html": [
       "<div>\n",
       "<style scoped>\n",
       "    .dataframe tbody tr th:only-of-type {\n",
       "        vertical-align: middle;\n",
       "    }\n",
       "\n",
       "    .dataframe tbody tr th {\n",
       "        vertical-align: top;\n",
       "    }\n",
       "\n",
       "    .dataframe thead th {\n",
       "        text-align: right;\n",
       "    }\n",
       "</style>\n",
       "<table border=\"1\" class=\"dataframe\">\n",
       "  <thead>\n",
       "    <tr style=\"text-align: right;\">\n",
       "      <th></th>\n",
       "      <th>0</th>\n",
       "    </tr>\n",
       "  </thead>\n",
       "  <tbody>\n",
       "    <tr>\n",
       "      <th>arief</th>\n",
       "      <td>0.110297</td>\n",
       "    </tr>\n",
       "    <tr>\n",
       "      <th>junaedi</th>\n",
       "      <td>0.345950</td>\n",
       "    </tr>\n",
       "    <tr>\n",
       "      <th>yadi</th>\n",
       "      <td>0.543753</td>\n",
       "    </tr>\n",
       "  </tbody>\n",
       "</table>\n",
       "</div>"
      ],
      "text/plain": [
       "                0\n",
       "arief    0.110297\n",
       "junaedi  0.345950\n",
       "yadi     0.543753"
      ]
     },
     "execution_count": 153,
     "metadata": {},
     "output_type": "execute_result"
    }
   ],
   "source": [
    "print('NORMALISASI  jujur')\n",
    "nJujur = np.average(Jujur/np.sum(Jujur,axis=0),axis=1)\n",
    "\n",
    "\n",
    "pd.DataFrame(nJujur,index=CAKADES)"
   ]
  },
  {
   "cell_type": "code",
   "execution_count": 154,
   "metadata": {},
   "outputs": [
    {
     "name": "stdout",
     "output_type": "stream",
     "text": [
      "NORMALISASI  Disiplin\n"
     ]
    },
    {
     "data": {
      "text/html": [
       "<div>\n",
       "<style scoped>\n",
       "    .dataframe tbody tr th:only-of-type {\n",
       "        vertical-align: middle;\n",
       "    }\n",
       "\n",
       "    .dataframe tbody tr th {\n",
       "        vertical-align: top;\n",
       "    }\n",
       "\n",
       "    .dataframe thead th {\n",
       "        text-align: right;\n",
       "    }\n",
       "</style>\n",
       "<table border=\"1\" class=\"dataframe\">\n",
       "  <thead>\n",
       "    <tr style=\"text-align: right;\">\n",
       "      <th></th>\n",
       "      <th>0</th>\n",
       "    </tr>\n",
       "  </thead>\n",
       "  <tbody>\n",
       "    <tr>\n",
       "      <th>arief</th>\n",
       "      <td>0.127914</td>\n",
       "    </tr>\n",
       "    <tr>\n",
       "      <th>junaedi</th>\n",
       "      <td>0.360140</td>\n",
       "    </tr>\n",
       "    <tr>\n",
       "      <th>yadi</th>\n",
       "      <td>0.511946</td>\n",
       "    </tr>\n",
       "  </tbody>\n",
       "</table>\n",
       "</div>"
      ],
      "text/plain": [
       "                0\n",
       "arief    0.127914\n",
       "junaedi  0.360140\n",
       "yadi     0.511946"
      ]
     },
     "execution_count": 154,
     "metadata": {},
     "output_type": "execute_result"
    }
   ],
   "source": [
    "print('NORMALISASI  Disiplin')\n",
    "nDis = np.average(Dis/np.sum(Dis,axis=0),axis=1)\n",
    "\n",
    "\n",
    "pd.DataFrame(nDis,index=CAKADES)"
   ]
  },
  {
   "cell_type": "code",
   "execution_count": 155,
   "metadata": {},
   "outputs": [
    {
     "name": "stdout",
     "output_type": "stream",
     "text": [
      "Menentukan Pilihan Terbaik Dengan Mengalikan dengan Vektor Rata-rata\n",
      "Matriks Alternatif:...\n"
     ]
    },
    {
     "data": {
      "text/html": [
       "<div>\n",
       "<style scoped>\n",
       "    .dataframe tbody tr th:only-of-type {\n",
       "        vertical-align: middle;\n",
       "    }\n",
       "\n",
       "    .dataframe tbody tr th {\n",
       "        vertical-align: top;\n",
       "    }\n",
       "\n",
       "    .dataframe thead th {\n",
       "        text-align: right;\n",
       "    }\n",
       "</style>\n",
       "<table border=\"1\" class=\"dataframe\">\n",
       "  <thead>\n",
       "    <tr style=\"text-align: right;\">\n",
       "      <th></th>\n",
       "      <th>TJawab</th>\n",
       "      <th>Jujur</th>\n",
       "      <th>Disiplin</th>\n",
       "    </tr>\n",
       "  </thead>\n",
       "  <tbody>\n",
       "    <tr>\n",
       "      <th>arief</th>\n",
       "      <td>0.309150</td>\n",
       "      <td>0.581264</td>\n",
       "      <td>0.109586</td>\n",
       "    </tr>\n",
       "    <tr>\n",
       "      <th>junaedi</th>\n",
       "      <td>0.110297</td>\n",
       "      <td>0.345950</td>\n",
       "      <td>0.543753</td>\n",
       "    </tr>\n",
       "    <tr>\n",
       "      <th>yadi</th>\n",
       "      <td>0.127914</td>\n",
       "      <td>0.360140</td>\n",
       "      <td>0.511946</td>\n",
       "    </tr>\n",
       "  </tbody>\n",
       "</table>\n",
       "</div>"
      ],
      "text/plain": [
       "           TJawab     Jujur  Disiplin\n",
       "arief    0.309150  0.581264  0.109586\n",
       "junaedi  0.110297  0.345950  0.543753\n",
       "yadi     0.127914  0.360140  0.511946"
      ]
     },
     "execution_count": 155,
     "metadata": {},
     "output_type": "execute_result"
    }
   ],
   "source": [
    "print('Menentukan Pilihan Terbaik Dengan Mengalikan dengan Vektor Rata-rata')\n",
    "print('Matriks Alternatif:...')\n",
    "joined = np.array([nTJ,nJujur,nDis],dtype=np.float64)\n",
    "pd.DataFrame(joined,index=CAKADES,columns=criteria)"
   ]
  },
  {
   "cell_type": "code",
   "execution_count": 156,
   "metadata": {},
   "outputs": [
    {
     "name": "stdout",
     "output_type": "stream",
     "text": [
      "Vektor Rata-rata/bobot per kriteria\n"
     ]
    },
    {
     "data": {
      "text/html": [
       "<div>\n",
       "<style scoped>\n",
       "    .dataframe tbody tr th:only-of-type {\n",
       "        vertical-align: middle;\n",
       "    }\n",
       "\n",
       "    .dataframe tbody tr th {\n",
       "        vertical-align: top;\n",
       "    }\n",
       "\n",
       "    .dataframe thead th {\n",
       "        text-align: right;\n",
       "    }\n",
       "</style>\n",
       "<table border=\"1\" class=\"dataframe\">\n",
       "  <thead>\n",
       "    <tr style=\"text-align: right;\">\n",
       "      <th></th>\n",
       "      <th>bobot</th>\n",
       "    </tr>\n",
       "  </thead>\n",
       "  <tbody>\n",
       "    <tr>\n",
       "      <th>TJawab</th>\n",
       "      <td>0.681563</td>\n",
       "    </tr>\n",
       "    <tr>\n",
       "      <th>Jujur</th>\n",
       "      <td>0.236447</td>\n",
       "    </tr>\n",
       "    <tr>\n",
       "      <th>Disiplin</th>\n",
       "      <td>0.081990</td>\n",
       "    </tr>\n",
       "  </tbody>\n",
       "</table>\n",
       "</div>"
      ],
      "text/plain": [
       "             bobot\n",
       "TJawab    0.681563\n",
       "Jujur     0.236447\n",
       "Disiplin  0.081990"
      ]
     },
     "execution_count": 156,
     "metadata": {},
     "output_type": "execute_result"
    }
   ],
   "source": [
    "print('Vektor Rata-rata/bobot per kriteria')\n",
    "pd.DataFrame(mavg,index=criteria,columns=['bobot'])"
   ]
  },
  {
   "cell_type": "code",
   "execution_count": 157,
   "metadata": {},
   "outputs": [
    {
     "name": "stdout",
     "output_type": "stream",
     "text": [
      "setelah dilakukan perhitungan pak Arief adlah yang paling cocok\n"
     ]
    },
    {
     "data": {
      "text/html": [
       "<div>\n",
       "<style scoped>\n",
       "    .dataframe tbody tr th:only-of-type {\n",
       "        vertical-align: middle;\n",
       "    }\n",
       "\n",
       "    .dataframe tbody tr th {\n",
       "        vertical-align: top;\n",
       "    }\n",
       "\n",
       "    .dataframe thead th {\n",
       "        text-align: right;\n",
       "    }\n",
       "</style>\n",
       "<table border=\"1\" class=\"dataframe\">\n",
       "  <thead>\n",
       "    <tr style=\"text-align: right;\">\n",
       "      <th></th>\n",
       "      <th>bobot</th>\n",
       "      <th>ranking</th>\n",
       "    </tr>\n",
       "  </thead>\n",
       "  <tbody>\n",
       "    <tr>\n",
       "      <th>arief</th>\n",
       "      <td>0.357128</td>\n",
       "      <td>1.0</td>\n",
       "    </tr>\n",
       "    <tr>\n",
       "      <th>junaedi</th>\n",
       "      <td>0.201556</td>\n",
       "      <td>3.0</td>\n",
       "    </tr>\n",
       "    <tr>\n",
       "      <th>yadi</th>\n",
       "      <td>0.214310</td>\n",
       "      <td>2.0</td>\n",
       "    </tr>\n",
       "  </tbody>\n",
       "</table>\n",
       "</div>"
      ],
      "text/plain": [
       "            bobot  ranking\n",
       "arief    0.357128      1.0\n",
       "junaedi  0.201556      3.0\n",
       "yadi     0.214310      2.0"
      ]
     },
     "execution_count": 157,
     "metadata": {},
     "output_type": "execute_result"
    }
   ],
   "source": [
    "from scipy.stats import rankdata\n",
    "\n",
    "res = joined @ mavg\n",
    "rank = rankdata(-res, method='ordinal')\n",
    "rank = rank[:, np.newaxis]\n",
    "res = np.concatenate((res.reshape(-1, 1), rank), axis=1)\n",
    "print('setelah dilakukan perhitungan pak Arief adlah yang paling cocok')\n",
    "pd.DataFrame(res,columns=['bobot','ranking'],index=CAKADES)\n",
    "\n"
   ]
  }
 ],
 "metadata": {
  "kernelspec": {
   "display_name": "Python 3 (ipykernel)",
   "language": "python",
   "name": "python3"
  },
  "language_info": {
   "codemirror_mode": {
    "name": "ipython",
    "version": 3
   },
   "file_extension": ".py",
   "mimetype": "text/x-python",
   "name": "python",
   "nbconvert_exporter": "python",
   "pygments_lexer": "ipython3",
   "version": "3.10.9"
  }
 },
 "nbformat": 4,
 "nbformat_minor": 2
}
