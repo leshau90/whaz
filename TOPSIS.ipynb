{
 "cells": [
  {
   "cell_type": "code",
   "execution_count": 1,
   "id": "59603ea9",
   "metadata": {},
   "outputs": [],
   "source": [
    "import numpy as np\n",
    "from scipy.stats import rankdata\n",
    "import pandas as pd"
   ]
  },
  {
   "cell_type": "code",
   "execution_count": 2,
   "id": "3dea8a99",
   "metadata": {},
   "outputs": [
    {
     "name": "stdout",
     "output_type": "stream",
     "text": [
      "DATA\n"
     ]
    },
    {
     "data": {
      "text/html": [
       "<div>\n",
       "<style scoped>\n",
       "    .dataframe tbody tr th:only-of-type {\n",
       "        vertical-align: middle;\n",
       "    }\n",
       "\n",
       "    .dataframe tbody tr th {\n",
       "        vertical-align: top;\n",
       "    }\n",
       "\n",
       "    .dataframe thead th {\n",
       "        text-align: right;\n",
       "    }\n",
       "</style>\n",
       "<table border=\"1\" class=\"dataframe\">\n",
       "  <thead>\n",
       "    <tr style=\"text-align: right;\">\n",
       "      <th></th>\n",
       "      <th>penghasilan</th>\n",
       "      <th>tanggungan</th>\n",
       "      <th>atap</th>\n",
       "      <th>dinding</th>\n",
       "      <th>komunikasi</th>\n",
       "    </tr>\n",
       "  </thead>\n",
       "  <tbody>\n",
       "    <tr>\n",
       "      <th>Wiji</th>\n",
       "      <td>4.0</td>\n",
       "      <td>4.0</td>\n",
       "      <td>3.0</td>\n",
       "      <td>5.0</td>\n",
       "      <td>3.0</td>\n",
       "    </tr>\n",
       "    <tr>\n",
       "      <th>Sugiyem</th>\n",
       "      <td>3.0</td>\n",
       "      <td>2.0</td>\n",
       "      <td>3.0</td>\n",
       "      <td>5.0</td>\n",
       "      <td>2.0</td>\n",
       "    </tr>\n",
       "    <tr>\n",
       "      <th>Dul</th>\n",
       "      <td>4.5</td>\n",
       "      <td>5.0</td>\n",
       "      <td>2.0</td>\n",
       "      <td>2.0</td>\n",
       "      <td>3.0</td>\n",
       "    </tr>\n",
       "    <tr>\n",
       "      <th>Kuswara</th>\n",
       "      <td>3.5</td>\n",
       "      <td>3.0</td>\n",
       "      <td>3.0</td>\n",
       "      <td>5.0</td>\n",
       "      <td>3.0</td>\n",
       "    </tr>\n",
       "    <tr>\n",
       "      <th>Tugiyah</th>\n",
       "      <td>3.0</td>\n",
       "      <td>2.0</td>\n",
       "      <td>3.0</td>\n",
       "      <td>5.0</td>\n",
       "      <td>2.0</td>\n",
       "    </tr>\n",
       "  </tbody>\n",
       "</table>\n",
       "</div>"
      ],
      "text/plain": [
       "         penghasilan  tanggungan  atap  dinding  komunikasi\n",
       "Wiji             4.0         4.0   3.0      5.0         3.0\n",
       "Sugiyem          3.0         2.0   3.0      5.0         2.0\n",
       "Dul              4.5         5.0   2.0      2.0         3.0\n",
       "Kuswara          3.5         3.0   3.0      5.0         3.0\n",
       "Tugiyah          3.0         2.0   3.0      5.0         2.0"
      ]
     },
     "execution_count": 2,
     "metadata": {},
     "output_type": "execute_result"
    }
   ],
   "source": [
    "alternatif = ['Wiji','Sugiyem','Dul','Kuswara','Tugiyah']\n",
    "kriteria = ['penghasilan','tanggungan','atap','dinding','komunikasi']\n",
    "data = np.array([\n",
    "            [4,4,3,5,3],\n",
    "            [3,2,3,5,2],\n",
    "            [4.5,5,2,2,3],\n",
    "            [3.5,3,3,5,3],\n",
    "            [3,2,3,5,2]\n",
    "                ],dtype=np.float128)\n",
    "\n",
    "\n",
    "# Normalize the decision matrix\n",
    "normalized_data = data / np.sqrt(np.sum(data**2,axis=0))\n",
    "# normalized_data\n",
    "\n",
    "print(\"DATA\")\n",
    "pd.DataFrame(data,columns=kriteria,index=alternatif)\n"
   ]
  },
  {
   "cell_type": "code",
   "execution_count": 3,
   "id": "98f69034",
   "metadata": {},
   "outputs": [
    {
     "name": "stdout",
     "output_type": "stream",
     "text": [
      "PEMBOBOTAN\n"
     ]
    },
    {
     "data": {
      "text/html": [
       "<div>\n",
       "<style scoped>\n",
       "    .dataframe tbody tr th:only-of-type {\n",
       "        vertical-align: middle;\n",
       "    }\n",
       "\n",
       "    .dataframe tbody tr th {\n",
       "        vertical-align: top;\n",
       "    }\n",
       "\n",
       "    .dataframe thead th {\n",
       "        text-align: right;\n",
       "    }\n",
       "</style>\n",
       "<table border=\"1\" class=\"dataframe\">\n",
       "  <thead>\n",
       "    <tr style=\"text-align: right;\">\n",
       "      <th></th>\n",
       "      <th>penghasilan</th>\n",
       "      <th>tanggungan</th>\n",
       "      <th>atap</th>\n",
       "      <th>dinding</th>\n",
       "      <th>komunikasi</th>\n",
       "    </tr>\n",
       "  </thead>\n",
       "  <tbody>\n",
       "    <tr>\n",
       "      <th>bobot</th>\n",
       "      <td>5</td>\n",
       "      <td>4</td>\n",
       "      <td>4</td>\n",
       "      <td>5</td>\n",
       "      <td>3</td>\n",
       "    </tr>\n",
       "  </tbody>\n",
       "</table>\n",
       "</div>"
      ],
      "text/plain": [
       "       penghasilan  tanggungan  atap  dinding  komunikasi\n",
       "bobot            5           4     4        5           3"
      ]
     },
     "execution_count": 3,
     "metadata": {},
     "output_type": "execute_result"
    }
   ],
   "source": [
    "weights = np.array([5,4,4,5,3])\n",
    "# weights = np.array([1,4/5,4/5,1,3/5])\n",
    "print('PEMBOBOTAN')\n",
    "\n",
    "pd.DataFrame([weights],columns=kriteria,index=['bobot'])"
   ]
  },
  {
   "cell_type": "code",
   "execution_count": 4,
   "id": "f6a90ec1",
   "metadata": {},
   "outputs": [
    {
     "name": "stdout",
     "output_type": "stream",
     "text": [
      "Nomalized\n"
     ]
    },
    {
     "data": {
      "text/plain": [
       "array([[0.49051147, 0.52522573, 0.47434165, 0.49029034, 0.50709255],\n",
       "       [0.3678836 , 0.26261287, 0.47434165, 0.49029034, 0.3380617 ],\n",
       "       [0.55182541, 0.65653216, 0.31622777, 0.19611614, 0.50709255],\n",
       "       [0.42919754, 0.3939193 , 0.47434165, 0.49029034, 0.50709255],\n",
       "       [0.3678836 , 0.26261287, 0.47434165, 0.49029034, 0.3380617 ]],\n",
       "      dtype=float128)"
      ]
     },
     "execution_count": 4,
     "metadata": {},
     "output_type": "execute_result"
    }
   ],
   "source": [
    "print('Nomalized')\n",
    "normalized_data\n"
   ]
  },
  {
   "cell_type": "code",
   "execution_count": 5,
   "id": "b7426294",
   "metadata": {},
   "outputs": [
    {
     "name": "stdout",
     "output_type": "stream",
     "text": [
      "Weighted\n"
     ]
    },
    {
     "data": {
      "text/plain": [
       "array([[2.45255736, 2.10090293, 1.8973666 , 2.45145169, 1.52127766],\n",
       "       [1.83941802, 1.05045146, 1.8973666 , 2.45145169, 1.01418511],\n",
       "       [2.75912703, 2.62612866, 1.26491106, 0.98058068, 1.52127766],\n",
       "       [2.14598769, 1.57567719, 1.8973666 , 2.45145169, 1.52127766],\n",
       "       [1.83941802, 1.05045146, 1.8973666 , 2.45145169, 1.01418511]],\n",
       "      dtype=float128)"
      ]
     },
     "execution_count": 5,
     "metadata": {},
     "output_type": "execute_result"
    }
   ],
   "source": [
    "print('Weighted')\n",
    "weighted = normalized_data * weights\n",
    "weighted"
   ]
  },
  {
   "cell_type": "code",
   "execution_count": 6,
   "id": "8a5d658f",
   "metadata": {},
   "outputs": [],
   "source": [
    "#True jika  benefit dan False jika Cost\n",
    "ben_or_cost = np.array([False,True,True,True,True])\n"
   ]
  },
  {
   "cell_type": "code",
   "execution_count": 7,
   "id": "495894cc",
   "metadata": {},
   "outputs": [
    {
     "data": {
      "text/plain": [
       "array([1.83941802, 2.62612866, 1.8973666 , 2.45145169, 1.52127766],\n",
       "      dtype=float128)"
      ]
     },
     "execution_count": 7,
     "metadata": {},
     "output_type": "execute_result"
    }
   ],
   "source": [
    "\n",
    "\n",
    "maximizing = np.where(ben_or_cost,\n",
    "                      np.max(weighted,axis=0),\n",
    "                      np.min(weighted,axis=0))\n",
    "maximizing"
   ]
  },
  {
   "cell_type": "code",
   "execution_count": 8,
   "id": "7b0edfab",
   "metadata": {},
   "outputs": [
    {
     "data": {
      "text/plain": [
       "array([2.75912703, 1.05045146, 1.26491106, 0.98058068, 1.01418511],\n",
       "      dtype=float128)"
      ]
     },
     "execution_count": 8,
     "metadata": {},
     "output_type": "execute_result"
    }
   ],
   "source": [
    "minimizing = np.where(ben_or_cost,\n",
    "                      np.min(weighted,axis=0),\n",
    "                      np.max(weighted,axis=0))\n",
    "minimizing"
   ]
  },
  {
   "cell_type": "code",
   "execution_count": 9,
   "id": "9d32475f",
   "metadata": {},
   "outputs": [
    {
     "data": {
      "text/plain": [
       "array([0.8073425 , 1.65526478, 1.84643608, 1.09427293, 1.65526478],\n",
       "      dtype=float128)"
      ]
     },
     "execution_count": 9,
     "metadata": {},
     "output_type": "execute_result"
    }
   ],
   "source": [
    "solusi_ideal_positif = np.sqrt(np.sum((maximizing-weighted)**2, \n",
    "                                   axis=1))\n",
    "\n",
    "\n",
    "solusi_ideal_positif"
   ]
  },
  {
   "cell_type": "code",
   "execution_count": 10,
   "id": "69d56833",
   "metadata": {},
   "outputs": [
    {
     "data": {
      "text/plain": [
       "array([2.00450434, 1.84643608, 1.65526478, 1.86343938, 1.84643608],\n",
       "      dtype=float128)"
      ]
     },
     "execution_count": 10,
     "metadata": {},
     "output_type": "execute_result"
    }
   ],
   "source": [
    "solusi_ideal_negatif = np.sqrt(np.sum((weighted - minimizing)**2, \n",
    "                                   axis=1))\n",
    "\n",
    "solusi_ideal_negatif"
   ]
  },
  {
   "cell_type": "code",
   "execution_count": 11,
   "id": "492af98b",
   "metadata": {},
   "outputs": [
    {
     "name": "stdout",
     "output_type": "stream",
     "text": [
      "RELATIVE_CLOSENESS\n"
     ]
    },
    {
     "data": {
      "text/plain": [
       "array([0.71287821, 0.52729692, 0.47270308, 0.63002726, 0.52729692],\n",
       "      dtype=float128)"
      ]
     },
     "execution_count": 11,
     "metadata": {},
     "output_type": "execute_result"
    }
   ],
   "source": [
    "relative_closeness = solusi_ideal_negatif / (solusi_ideal_negatif+solusi_ideal_positif)\n",
    "\n",
    "# Rank the alternatives\n",
    "# ranked_alternatives = np.argsort(relative_closeness)\n",
    "# ranked_alternatives.reshape([5,1] )\n",
    "\n",
    "print('RELATIVE_CLOSENESS')\n",
    "relative_closeness\n",
    "\n",
    "# relative_closeness,ranked_alternatives.reshape([data.shape[0],1])\n"
   ]
  },
  {
   "cell_type": "code",
   "execution_count": 12,
   "id": "1d927b74",
   "metadata": {},
   "outputs": [
    {
     "name": "stdout",
     "output_type": "stream",
     "text": [
      "Ranking\n"
     ]
    },
    {
     "data": {
      "text/html": [
       "<div>\n",
       "<style scoped>\n",
       "    .dataframe tbody tr th:only-of-type {\n",
       "        vertical-align: middle;\n",
       "    }\n",
       "\n",
       "    .dataframe tbody tr th {\n",
       "        vertical-align: top;\n",
       "    }\n",
       "\n",
       "    .dataframe thead th {\n",
       "        text-align: right;\n",
       "    }\n",
       "</style>\n",
       "<table border=\"1\" class=\"dataframe\">\n",
       "  <thead>\n",
       "    <tr style=\"text-align: right;\">\n",
       "      <th></th>\n",
       "      <th>0</th>\n",
       "    </tr>\n",
       "  </thead>\n",
       "  <tbody>\n",
       "    <tr>\n",
       "      <th>Wiji</th>\n",
       "      <td>5</td>\n",
       "    </tr>\n",
       "    <tr>\n",
       "      <th>Sugiyem</th>\n",
       "      <td>2</td>\n",
       "    </tr>\n",
       "    <tr>\n",
       "      <th>Dul</th>\n",
       "      <td>1</td>\n",
       "    </tr>\n",
       "    <tr>\n",
       "      <th>Kuswara</th>\n",
       "      <td>4</td>\n",
       "    </tr>\n",
       "    <tr>\n",
       "      <th>Tugiyah</th>\n",
       "      <td>3</td>\n",
       "    </tr>\n",
       "  </tbody>\n",
       "</table>\n",
       "</div>"
      ],
      "text/plain": [
       "         0\n",
       "Wiji     5\n",
       "Sugiyem  2\n",
       "Dul      1\n",
       "Kuswara  4\n",
       "Tugiyah  3"
      ]
     },
     "execution_count": 12,
     "metadata": {},
     "output_type": "execute_result"
    }
   ],
   "source": [
    "print('Ranking')\n",
    "ranked_alternatives = rankdata(relative_closeness,method='ordinal')\n",
    "pd.DataFrame( ranked_alternatives.reshape([data.shape[0],1]),index=alternatif)"
   ]
  },
  {
   "cell_type": "code",
   "execution_count": 13,
   "id": "2aa519b1",
   "metadata": {},
   "outputs": [
    {
     "name": "stdout",
     "output_type": "stream",
     "text": [
      "Mencoba menggunakan skcriteria TOPSIS, untuk membandingkan, mungkin saya salah ketika menggunakan operasi matriks manual numpy, karena hasilnya beda\n",
      "\n",
      "walau menggunakan scaler, hasilnya tetap sama, berbeda dengan perhitungan manual sebelumnya\n"
     ]
    },
    {
     "data": {
      "text/html": [
       "<div class='skcresult-rank skcresult'>\n",
       "<style type=\"text/css\">\n",
       "</style>\n",
       "<table id=\"T_f8f2d\">\n",
       "  <thead>\n",
       "    <tr>\n",
       "      <th class=\"index_name level0\" >Alternatives</th>\n",
       "      <th id=\"T_f8f2d_level0_col0\" class=\"col_heading level0 col0\" >Wiji</th>\n",
       "      <th id=\"T_f8f2d_level0_col1\" class=\"col_heading level0 col1\" >Sugiyem</th>\n",
       "      <th id=\"T_f8f2d_level0_col2\" class=\"col_heading level0 col2\" >Dul</th>\n",
       "      <th id=\"T_f8f2d_level0_col3\" class=\"col_heading level0 col3\" >Kuswara</th>\n",
       "      <th id=\"T_f8f2d_level0_col4\" class=\"col_heading level0 col4\" >Tugiyah</th>\n",
       "    </tr>\n",
       "  </thead>\n",
       "  <tbody>\n",
       "    <tr>\n",
       "      <th id=\"T_f8f2d_level0_row0\" class=\"row_heading level0 row0\" >Rank</th>\n",
       "      <td id=\"T_f8f2d_row0_col0\" class=\"data row0 col0\" >1</td>\n",
       "      <td id=\"T_f8f2d_row0_col1\" class=\"data row0 col1\" >3</td>\n",
       "      <td id=\"T_f8f2d_row0_col2\" class=\"data row0 col2\" >4</td>\n",
       "      <td id=\"T_f8f2d_row0_col3\" class=\"data row0 col3\" >2</td>\n",
       "      <td id=\"T_f8f2d_row0_col4\" class=\"data row0 col4\" >3</td>\n",
       "    </tr>\n",
       "  </tbody>\n",
       "</table>\n",
       "<em class='skcresult-method'>Method: TOPSIS</em>\n",
       "</div>"
      ],
      "text/plain": [
       "Alternatives  Wiji  Sugiyem  Dul  Kuswara  Tugiyah\n",
       "Rank             1        3    4        2        3\n",
       "[Method: TOPSIS]"
      ]
     },
     "execution_count": 13,
     "metadata": {},
     "output_type": "execute_result"
    }
   ],
   "source": [
    "\n",
    "print(\"Mencoba menggunakan skcriteria TOPSIS, untuk membandingkan, mungkin saya salah ketika menggunakan operasi matriks manual numpy, karena hasilnya beda\")\n",
    "print(\"\\nwalau menggunakan scaler, hasilnya tetap sama, berbeda dengan perhitungan manual sebelumnya\")\n",
    "import skcriteria as skc\n",
    "from skcriteria.madm import simple\n",
    "from skcriteria.madm import similarity\n",
    "from skcriteria.pipeline import mkpipe\n",
    "from skcriteria.preprocessing import invert_objectives,scalers\n",
    "\n",
    "minmax = np.where(ben_or_cost,max,min)\n",
    "dm = skc.mkdm(data,minmax,weights,\n",
    "              alternatives=alternatif,\n",
    "              criteria=kriteria)\n",
    "\n",
    "\n",
    "pipe = mkpipe(\n",
    "    invert_objectives.NegateMinimize(),\n",
    "    # scalers.VectorScaler(target='matrix'),\n",
    "    # scalers.SumScaler(target='weights'),\n",
    "    similarity.TOPSIS()\n",
    ")\n",
    "dm = pipe.evaluate(dm)\n",
    "dm"
   ]
  }
 ],
 "metadata": {
  "kernelspec": {
   "display_name": "Python 3 (ipykernel)",
   "language": "python",
   "name": "python3"
  },
  "language_info": {
   "codemirror_mode": {
    "name": "ipython",
    "version": 3
   },
   "file_extension": ".py",
   "mimetype": "text/x-python",
   "name": "python",
   "nbconvert_exporter": "python",
   "pygments_lexer": "ipython3",
   "version": "3.10.9"
  }
 },
 "nbformat": 4,
 "nbformat_minor": 5
}
