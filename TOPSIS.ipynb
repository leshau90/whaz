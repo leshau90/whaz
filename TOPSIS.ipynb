{
 "cells": [
  {
   "cell_type": "code",
   "execution_count": 11,
   "id": "59603ea9",
   "metadata": {},
   "outputs": [],
   "source": [
    "import numpy as np\n",
    "from scipy.stats import rankdata\n",
    "import pandas as pd"
   ]
  },
  {
   "cell_type": "code",
   "execution_count": 23,
   "id": "3dea8a99",
   "metadata": {},
   "outputs": [
    {
     "name": "stdout",
     "output_type": "stream",
     "text": [
      "DATA\n"
     ]
    },
    {
     "data": {
      "text/html": [
       "<div>\n",
       "<style scoped>\n",
       "    .dataframe tbody tr th:only-of-type {\n",
       "        vertical-align: middle;\n",
       "    }\n",
       "\n",
       "    .dataframe tbody tr th {\n",
       "        vertical-align: top;\n",
       "    }\n",
       "\n",
       "    .dataframe thead th {\n",
       "        text-align: right;\n",
       "    }\n",
       "</style>\n",
       "<table border=\"1\" class=\"dataframe\">\n",
       "  <thead>\n",
       "    <tr style=\"text-align: right;\">\n",
       "      <th></th>\n",
       "      <th>penghasilan</th>\n",
       "      <th>tanggungan</th>\n",
       "      <th>atap</th>\n",
       "      <th>dinding</th>\n",
       "      <th>komunikasi</th>\n",
       "    </tr>\n",
       "  </thead>\n",
       "  <tbody>\n",
       "    <tr>\n",
       "      <th>Wiji</th>\n",
       "      <td>4.0</td>\n",
       "      <td>4.0</td>\n",
       "      <td>3.0</td>\n",
       "      <td>5.0</td>\n",
       "      <td>3.0</td>\n",
       "    </tr>\n",
       "    <tr>\n",
       "      <th>Sugiyem</th>\n",
       "      <td>3.0</td>\n",
       "      <td>2.0</td>\n",
       "      <td>3.0</td>\n",
       "      <td>5.0</td>\n",
       "      <td>2.0</td>\n",
       "    </tr>\n",
       "    <tr>\n",
       "      <th>Dul</th>\n",
       "      <td>4.5</td>\n",
       "      <td>5.0</td>\n",
       "      <td>2.0</td>\n",
       "      <td>2.0</td>\n",
       "      <td>3.0</td>\n",
       "    </tr>\n",
       "    <tr>\n",
       "      <th>Kuswara</th>\n",
       "      <td>3.5</td>\n",
       "      <td>5.0</td>\n",
       "      <td>2.0</td>\n",
       "      <td>2.0</td>\n",
       "      <td>3.0</td>\n",
       "    </tr>\n",
       "    <tr>\n",
       "      <th>Tugiyah</th>\n",
       "      <td>3.0</td>\n",
       "      <td>2.0</td>\n",
       "      <td>3.0</td>\n",
       "      <td>5.0</td>\n",
       "      <td>2.0</td>\n",
       "    </tr>\n",
       "  </tbody>\n",
       "</table>\n",
       "</div>"
      ],
      "text/plain": [
       "         penghasilan  tanggungan  atap  dinding  komunikasi\n",
       "Wiji             4.0         4.0   3.0      5.0         3.0\n",
       "Sugiyem          3.0         2.0   3.0      5.0         2.0\n",
       "Dul              4.5         5.0   2.0      2.0         3.0\n",
       "Kuswara          3.5         5.0   2.0      2.0         3.0\n",
       "Tugiyah          3.0         2.0   3.0      5.0         2.0"
      ]
     },
     "execution_count": 23,
     "metadata": {},
     "output_type": "execute_result"
    }
   ],
   "source": [
    "alternatif = ['Wiji','Sugiyem','Dul','Kuswara','Tugiyah']\n",
    "kriteria = ['penghasilan','tanggungan','atap','dinding','komunikasi']\n",
    "data = np.array([\n",
    "            [4,4,3,5,3],\n",
    "            [3,2,3,5,2],\n",
    "            [4.5,5,2,2,3],\n",
    "            [3.5,5,2,2,3],\n",
    "            [3,2,3,5,2]\n",
    "                ])\n",
    "\n",
    "\n",
    "# Normalize the decision matrix\n",
    "normalized_data = data / np.sqrt(np.sum(data**2,axis=0))\n",
    "# normalized_data\n",
    "\n",
    "print(\"DATA\")\n",
    "pd.DataFrame(data,columns=kriteria,index=alternatif)\n"
   ]
  },
  {
   "cell_type": "code",
   "execution_count": 27,
   "id": "98f69034",
   "metadata": {},
   "outputs": [
    {
     "name": "stdout",
     "output_type": "stream",
     "text": [
      "PEMBOBOTAN\n"
     ]
    },
    {
     "data": {
      "text/html": [
       "<div>\n",
       "<style scoped>\n",
       "    .dataframe tbody tr th:only-of-type {\n",
       "        vertical-align: middle;\n",
       "    }\n",
       "\n",
       "    .dataframe tbody tr th {\n",
       "        vertical-align: top;\n",
       "    }\n",
       "\n",
       "    .dataframe thead th {\n",
       "        text-align: right;\n",
       "    }\n",
       "</style>\n",
       "<table border=\"1\" class=\"dataframe\">\n",
       "  <thead>\n",
       "    <tr style=\"text-align: right;\">\n",
       "      <th></th>\n",
       "      <th>penghasilan</th>\n",
       "      <th>tanggungan</th>\n",
       "      <th>atap</th>\n",
       "      <th>dinding</th>\n",
       "      <th>komunikasi</th>\n",
       "    </tr>\n",
       "  </thead>\n",
       "  <tbody>\n",
       "    <tr>\n",
       "      <th>bobot</th>\n",
       "      <td>5</td>\n",
       "      <td>4</td>\n",
       "      <td>4</td>\n",
       "      <td>5</td>\n",
       "      <td>3</td>\n",
       "    </tr>\n",
       "  </tbody>\n",
       "</table>\n",
       "</div>"
      ],
      "text/plain": [
       "       penghasilan  tanggungan  atap  dinding  komunikasi\n",
       "bobot            5           4     4        5           3"
      ]
     },
     "execution_count": 27,
     "metadata": {},
     "output_type": "execute_result"
    }
   ],
   "source": [
    "weights = np.array([5,4,4,5,3])\n",
    "print('PEMBOBOTAN')\n",
    "\n",
    "pd.DataFrame([weights],columns=kriteria,index=['bobot'])"
   ]
  },
  {
   "cell_type": "code",
   "execution_count": 21,
   "id": "f6a90ec1",
   "metadata": {},
   "outputs": [
    {
     "data": {
      "text/plain": [
       "array([[0.49051147, 0.46499055, 0.50709255, 0.5488213 , 0.50709255],\n",
       "       [0.3678836 , 0.23249528, 0.50709255, 0.5488213 , 0.3380617 ],\n",
       "       [0.55182541, 0.58123819, 0.3380617 , 0.21952852, 0.50709255],\n",
       "       [0.42919754, 0.58123819, 0.3380617 , 0.21952852, 0.50709255],\n",
       "       [0.3678836 , 0.23249528, 0.50709255, 0.5488213 , 0.3380617 ]])"
      ]
     },
     "execution_count": 21,
     "metadata": {},
     "output_type": "execute_result"
    }
   ],
   "source": [
    "normalized_data"
   ]
  },
  {
   "cell_type": "code",
   "execution_count": 13,
   "id": "b7426294",
   "metadata": {},
   "outputs": [
    {
     "data": {
      "text/plain": [
       "array([[2.45255736, 1.85996222, 2.02837021, 2.7441065 , 1.52127766],\n",
       "       [1.83941802, 0.92998111, 2.02837021, 2.7441065 , 1.01418511],\n",
       "       [2.75912703, 2.32495277, 1.35224681, 1.0976426 , 1.52127766],\n",
       "       [2.14598769, 2.32495277, 1.35224681, 1.0976426 , 1.52127766],\n",
       "       [1.83941802, 0.92998111, 2.02837021, 2.7441065 , 1.01418511]])"
      ]
     },
     "execution_count": 13,
     "metadata": {},
     "output_type": "execute_result"
    }
   ],
   "source": [
    "\n",
    "weighted = normalized_data * weights\n",
    "weighted"
   ]
  },
  {
   "cell_type": "code",
   "execution_count": 14,
   "id": "495894cc",
   "metadata": {},
   "outputs": [
    {
     "data": {
      "text/plain": [
       "array([1.83941802, 2.32495277, 2.02837021, 2.7441065 , 1.52127766])"
      ]
     },
     "execution_count": 14,
     "metadata": {},
     "output_type": "execute_result"
    }
   ],
   "source": [
    "#True jika  benefit dan False jika Cost\n",
    "dec_matrix = np.array([False,True,True,True,True])\n",
    "\n",
    "maximizing = np.where(dec_matrix,np.max(weighted,axis=0),\n",
    "                      np.min(weighted,axis=0))\n",
    "maximizing"
   ]
  },
  {
   "cell_type": "code",
   "execution_count": 15,
   "id": "7b0edfab",
   "metadata": {},
   "outputs": [
    {
     "data": {
      "text/plain": [
       "array([2.75912703, 0.92998111, 1.35224681, 1.0976426 , 1.01418511])"
      ]
     },
     "execution_count": 15,
     "metadata": {},
     "output_type": "execute_result"
    }
   ],
   "source": [
    "minimizing = np.where(dec_matrix,np.min(weighted,axis=0),\n",
    "                      np.max(weighted,axis=0))\n",
    "minimizing"
   ]
  },
  {
   "cell_type": "code",
   "execution_count": 16,
   "id": "9d32475f",
   "metadata": {},
   "outputs": [
    {
     "data": {
      "text/plain": [
       "array([3.66621639, 3.88295696, 3.86751128, 3.91004739, 3.88295696])"
      ]
     },
     "execution_count": 16,
     "metadata": {},
     "output_type": "execute_result"
    }
   ],
   "source": [
    "solusi_ideal_positif = np.sqrt(np.sum((maximizing-normalized_data)**2, \n",
    "                                   axis=1))\n",
    "\n",
    "\n",
    "solusi_ideal_positif"
   ]
  },
  {
   "cell_type": "code",
   "execution_count": 17,
   "id": "69d56833",
   "metadata": {},
   "outputs": [
    {
     "data": {
      "text/plain": [
       "array([2.57593986, 2.77076975, 2.65529672, 2.75807753, 2.77076975])"
      ]
     },
     "execution_count": 17,
     "metadata": {},
     "output_type": "execute_result"
    }
   ],
   "source": [
    "solusi_ideal_negatif = np.sqrt(np.sum((normalized_data - minimizing)**2, \n",
    "                                   axis=1))\n",
    "\n",
    "solusi_ideal_negatif"
   ]
  },
  {
   "cell_type": "code",
   "execution_count": 18,
   "id": "492af98b",
   "metadata": {},
   "outputs": [
    {
     "data": {
      "text/plain": [
       "(array([0.41266828, 0.41642374, 0.40707878, 0.41362115, 0.41642374]),\n",
       " array([[2],\n",
       "        [4],\n",
       "        [1],\n",
       "        [3],\n",
       "        [5]]))"
      ]
     },
     "execution_count": 18,
     "metadata": {},
     "output_type": "execute_result"
    }
   ],
   "source": [
    "relative_closeness = solusi_ideal_negatif / (solusi_ideal_negatif+solusi_ideal_positif)\n",
    "\n",
    "# Rank the alternatives\n",
    "# ranked_alternatives = np.argsort(relative_closeness)\n",
    "# ranked_alternatives.reshape([5,1] )\n",
    "ranked_alternatives = rankdata(relative_closeness,method='ordinal')\n",
    "\n",
    "relative_closeness,ranked_alternatives.reshape([data.shape[0],1])"
   ]
  },
  {
   "cell_type": "code",
   "execution_count": 19,
   "id": "2aa519b1",
   "metadata": {},
   "outputs": [
    {
     "data": {
      "text/html": [
       "<div class='skcresult-rank skcresult'>\n",
       "<style type=\"text/css\">\n",
       "</style>\n",
       "<table id=\"T_9dd2b\">\n",
       "  <thead>\n",
       "    <tr>\n",
       "      <th class=\"index_name level0\" >Alternatives</th>\n",
       "      <th id=\"T_9dd2b_level0_col0\" class=\"col_heading level0 col0\" >Wiji</th>\n",
       "      <th id=\"T_9dd2b_level0_col1\" class=\"col_heading level0 col1\" >Sugiyem</th>\n",
       "      <th id=\"T_9dd2b_level0_col2\" class=\"col_heading level0 col2\" >Dul</th>\n",
       "      <th id=\"T_9dd2b_level0_col3\" class=\"col_heading level0 col3\" >Kuswara</th>\n",
       "      <th id=\"T_9dd2b_level0_col4\" class=\"col_heading level0 col4\" >Tugiyah</th>\n",
       "    </tr>\n",
       "  </thead>\n",
       "  <tbody>\n",
       "    <tr>\n",
       "      <th id=\"T_9dd2b_level0_row0\" class=\"row_heading level0 row0\" >Rank</th>\n",
       "      <td id=\"T_9dd2b_row0_col0\" class=\"data row0 col0\" >1</td>\n",
       "      <td id=\"T_9dd2b_row0_col1\" class=\"data row0 col1\" >2</td>\n",
       "      <td id=\"T_9dd2b_row0_col2\" class=\"data row0 col2\" >4</td>\n",
       "      <td id=\"T_9dd2b_row0_col3\" class=\"data row0 col3\" >3</td>\n",
       "      <td id=\"T_9dd2b_row0_col4\" class=\"data row0 col4\" >2</td>\n",
       "    </tr>\n",
       "  </tbody>\n",
       "</table>\n",
       "<em class='skcresult-method'>Method: TOPSIS</em>\n",
       "</div>"
      ],
      "text/plain": [
       "Alternatives  Wiji  Sugiyem  Dul  Kuswara  Tugiyah\n",
       "Rank             1        2    4        3        2\n",
       "[Method: TOPSIS]"
      ]
     },
     "execution_count": 19,
     "metadata": {},
     "output_type": "execute_result"
    }
   ],
   "source": [
    "\n",
    "import skcriteria as skc\n",
    "from skcriteria.madm import simple\n",
    "from skcriteria.madm import similarity\n",
    "from skcriteria.pipeline import mkpipe\n",
    "from skcriteria.preprocessing import invert_objectives,scalers\n",
    "\n",
    "minmax = np.where(dec_matrix,max,min)\n",
    "dm = skc.mkdm(data,minmax,weights,\n",
    "              alternatives=alternatif,\n",
    "              criteria=kriteria)\n",
    "\n",
    "\n",
    "pipe = mkpipe(\n",
    "    invert_objectives.NegateMinimize(),\n",
    "    scalers.VectorScaler(target='matrix'),\n",
    "    scalers.SumScaler(target='weights'),\n",
    "    similarity.TOPSIS()\n",
    ")\n",
    "\n",
    "# dm.plot('kde')\n",
    "#inverting it first\n",
    "# dmt = invert_objectives.InvertMinimize().transform(dm)\n",
    "# rankUsingWeightedSum = simple.WeightedSumModel().evaluate(dmt)\n",
    "# rankUsingWeightedSum\n",
    "\n",
    "dm = pipe.evaluate(dm)\n",
    "dm"
   ]
  }
 ],
 "metadata": {
  "kernelspec": {
   "display_name": "Python 3 (ipykernel)",
   "language": "python",
   "name": "python3"
  },
  "language_info": {
   "codemirror_mode": {
    "name": "ipython",
    "version": 3
   },
   "file_extension": ".py",
   "mimetype": "text/x-python",
   "name": "python",
   "nbconvert_exporter": "python",
   "pygments_lexer": "ipython3",
   "version": "3.10.9"
  }
 },
 "nbformat": 4,
 "nbformat_minor": 5
}
