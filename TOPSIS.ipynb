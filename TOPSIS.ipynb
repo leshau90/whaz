{
 "cells": [
  {
   "cell_type": "code",
   "execution_count": 1,
   "id": "59603ea9",
   "metadata": {},
   "outputs": [],
   "source": [
    "import numpy as np"
   ]
  },
  {
   "cell_type": "code",
   "execution_count": 13,
   "id": "3dea8a99",
   "metadata": {},
   "outputs": [
    {
     "data": {
      "text/plain": [
       "array([[0.49051147, 0.46499055, 0.50709255, 0.5488213 , 0.50709255],\n",
       "       [0.3678836 , 0.23249528, 0.50709255, 0.5488213 , 0.3380617 ],\n",
       "       [0.55182541, 0.58123819, 0.3380617 , 0.21952852, 0.50709255],\n",
       "       [0.42919754, 0.58123819, 0.3380617 , 0.21952852, 0.50709255],\n",
       "       [0.3678836 , 0.23249528, 0.50709255, 0.5488213 , 0.3380617 ]])"
      ]
     },
     "execution_count": 13,
     "metadata": {},
     "output_type": "execute_result"
    }
   ],
   "source": [
    "# data = np.array([[.75,2000,18,50,500],\n",
    "#              [.5,1500,20,40,450],\n",
    "#              [.9,2050,25,35,800]])\n",
    "\n",
    "\n",
    "data = np.array([\n",
    "            [4,4,3,5,3],\n",
    "            [3,2,3,5,2],\n",
    "            [4.5,5,2,2,3],\n",
    "            [3.5,5,2,2,3],\n",
    "            [3,2,3,5,2]\n",
    "                ])\n",
    "\n",
    "\n",
    "# Normalize the decision matrix\n",
    "normalized_data = data / np.sqrt(np.sum(data**2,axis=0))\n",
    "normalized_data"
   ]
  },
  {
   "cell_type": "code",
   "execution_count": null,
   "id": "a7d1526b",
   "metadata": {},
   "outputs": [],
   "source": []
  },
  {
   "cell_type": "code",
   "execution_count": 15,
   "id": "b7426294",
   "metadata": {},
   "outputs": [
    {
     "data": {
      "text/plain": [
       "array([[2.45255736, 1.85996222, 2.02837021, 2.7441065 , 1.52127766],\n",
       "       [1.83941802, 0.92998111, 2.02837021, 2.7441065 , 1.01418511],\n",
       "       [2.75912703, 2.32495277, 1.35224681, 1.0976426 , 1.52127766],\n",
       "       [2.14598769, 2.32495277, 1.35224681, 1.0976426 , 1.52127766],\n",
       "       [1.83941802, 0.92998111, 2.02837021, 2.7441065 , 1.01418511]])"
      ]
     },
     "execution_count": 15,
     "metadata": {},
     "output_type": "execute_result"
    }
   ],
   "source": [
    "weights = np.array([5,4,4,5,3])\n",
    "weighted = normalized_data * weights\n",
    "weighted"
   ]
  },
  {
   "cell_type": "code",
   "execution_count": 16,
   "id": "495894cc",
   "metadata": {},
   "outputs": [
    {
     "data": {
      "text/plain": [
       "array([1.83941802, 2.32495277, 2.02837021, 2.7441065 , 1.52127766])"
      ]
     },
     "execution_count": 16,
     "metadata": {},
     "output_type": "execute_result"
    }
   ],
   "source": [
    "dec_matrix = np.array([False,True,True,True,True])\n",
    "\n",
    "maximizing = np.where(dec_matrix,np.max(weighted,axis=0),np.min(weighted,axis=0))\n",
    "maximizing"
   ]
  },
  {
   "cell_type": "code",
   "execution_count": 17,
   "id": "7b0edfab",
   "metadata": {},
   "outputs": [
    {
     "data": {
      "text/plain": [
       "array([2.75912703, 0.92998111, 1.35224681, 1.0976426 , 1.01418511])"
      ]
     },
     "execution_count": 17,
     "metadata": {},
     "output_type": "execute_result"
    }
   ],
   "source": [
    "minimizing = np.where(dec_matrix,np.min(weighted,axis=0),np.max(weighted,axis=0))\n",
    "minimizing"
   ]
  },
  {
   "cell_type": "code",
   "execution_count": 19,
   "id": "9d32475f",
   "metadata": {},
   "outputs": [
    {
     "data": {
      "text/plain": [
       "array([3.66621639, 3.88295696, 3.86751128, 3.91004739, 3.88295696])"
      ]
     },
     "execution_count": 19,
     "metadata": {},
     "output_type": "execute_result"
    }
   ],
   "source": [
    "distance_to_ideal = np.sqrt(np.sum((normalized_data - maximizing)**2, axis=1))\n",
    "# distance_to_worst = np.sqrt(np.sum((matrix - minimizing)**2, axis=1))\n",
    "\n",
    "distance_to_ideal"
   ]
  },
  {
   "cell_type": "code",
   "execution_count": 38,
   "id": "69d56833",
   "metadata": {},
   "outputs": [
    {
     "data": {
      "text/plain": [
       "(array([2.57593986, 2.77076975, 2.65529672, 2.75807753, 2.77076975]),\n",
       " array([2.57593986, 2.77076975]))"
      ]
     },
     "execution_count": 38,
     "metadata": {},
     "output_type": "execute_result"
    }
   ],
   "source": [
    "distance_to_worst = np.sqrt(np.sum((normalized_data - minimizing)**2, axis=1))\n",
    "\n",
    "distance_to_worst,distance_to_worst[::]"
   ]
  },
  {
   "cell_type": "code",
   "execution_count": 29,
   "id": "492af98b",
   "metadata": {},
   "outputs": [
    {
     "data": {
      "text/plain": [
       "array([[4],\n",
       "       [1],\n",
       "       [3],\n",
       "       [0],\n",
       "       [2]])"
      ]
     },
     "execution_count": 29,
     "metadata": {},
     "output_type": "execute_result"
    }
   ],
   "source": [
    "relative_closeness = distance_to_worst / (distance_to_ideal + distance_to_worst)\n",
    "\n",
    "# Rank the alternatives\n",
    "ranked_alternatives = np.argsort(relative_closeness)[::-1]\n",
    "ranked_alternatives.reshape([5,1] )"
   ]
  }
 ],
 "metadata": {
  "kernelspec": {
   "display_name": "Python 3 (ipykernel)",
   "language": "python",
   "name": "python3"
  },
  "language_info": {
   "codemirror_mode": {
    "name": "ipython",
    "version": 3
   },
   "file_extension": ".py",
   "mimetype": "text/x-python",
   "name": "python",
   "nbconvert_exporter": "python",
   "pygments_lexer": "ipython3",
   "version": "3.7.15"
  }
 },
 "nbformat": 4,
 "nbformat_minor": 5
}
